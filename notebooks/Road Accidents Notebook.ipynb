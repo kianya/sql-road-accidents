{
 "cells": [
  {
   "cell_type": "code",
   "execution_count": 1,
   "metadata": {
    "collapsed": true
   },
   "outputs": [
    {
     "name": "stdout",
     "output_type": "stream",
     "text": [
      "/bin/sh: 1: y: not found\n",
      "Solving environment: done\n",
      "\n",
      "\n",
      "==> WARNING: A newer version of conda exists. <==\n",
      "  current version: 4.5.8\n",
      "  latest version: 4.5.11\n",
      "\n",
      "Please update conda by running\n",
      "\n",
      "    $ conda update -n base conda\n",
      "\n",
      "\n",
      "\n",
      "## Package Plan ##\n",
      "\n",
      "  environment location: /opt/conda\n",
      "\n",
      "  added / updated specs: \n",
      "    - psycopg2\n",
      "\n",
      "\n",
      "The following packages will be downloaded:\n",
      "\n",
      "    package                    |            build\n",
      "    ---------------------------|-----------------\n",
      "    krb5-1.16.1                |       hbb41f41_0         1.4 MB  conda-forge\n",
      "    ca-certificates-2018.8.13  |       ha4d7672_0         135 KB  conda-forge\n",
      "    certifi-2018.8.13          |           py36_0         138 KB  conda-forge\n",
      "    libpq-9.6.3                |                0          97 KB  conda-forge\n",
      "    psycopg2-2.7.5             |   py36hdffb7b8_1         509 KB  conda-forge\n",
      "    ------------------------------------------------------------\n",
      "                                           Total:         2.2 MB\n",
      "\n",
      "The following NEW packages will be INSTALLED:\n",
      "\n",
      "    krb5:            1.16.1-hbb41f41_0    conda-forge\n",
      "    libpq:           9.6.3-0              conda-forge\n",
      "    psycopg2:        2.7.5-py36hdffb7b8_1 conda-forge\n",
      "\n",
      "The following packages will be UPDATED:\n",
      "\n",
      "    ca-certificates: 2018.4.16-0          conda-forge --> 2018.8.13-ha4d7672_0 conda-forge\n",
      "    certifi:         2018.4.16-py36_0     conda-forge --> 2018.8.13-py36_0     conda-forge\n",
      "\n",
      "Proceed ([y]/n)? \n",
      "\n",
      "Downloading and Extracting Packages\n",
      "krb5-1.16.1          |  1.4 MB | ####################################### | 100% \n",
      "ca-certificates-2018 |  135 KB | ####################################### | 100% \n",
      "certifi-2018.8.13    |  138 KB | ####################################### | 100% \n",
      "libpq-9.6.3          |   97 KB | ####################################### | 100% \n",
      "psycopg2-2.7.5       |  509 KB | ####################################### | 100% \n",
      "Preparing transaction: done\n",
      "Verifying transaction: done\n",
      "Executing transaction: done\n"
     ]
    }
   ],
   "source": [
    "%system\n",
    "! y|conda install psycopg2"
   ]
  },
  {
   "cell_type": "markdown",
   "metadata": {},
   "source": [
    "## Подключение к базе данных Postgres"
   ]
  },
  {
   "cell_type": "code",
   "execution_count": 3,
   "metadata": {},
   "outputs": [],
   "source": [
    "import psycopg2\n",
    "import os\n",
    "\n",
    "params = {\n",
    "    \"host\": os.environ['APP_POSTGRES_HOST'],\n",
    "    \"port\": os.environ['APP_POSTGRES_PORT'],\n",
    "    \"user\": 'postgres'\n",
    "}\n",
    "conn = psycopg2.connect(**params)"
   ]
  },
  {
   "cell_type": "markdown",
   "metadata": {},
   "source": [
    "## Использование Pandas для работы с данными"
   ]
  },
  {
   "cell_type": "markdown",
   "metadata": {},
   "source": [
    "1. Выбрать TOP-5 марок машины, с которыми чаще всего происходит ДТП\n",
    "2. Для каждого участника ДТП выбрать количество общее количество участников, количество машин, учавствовавших в ДТП и тип участника\n",
    "3. Установить, с какой средней частотой происходят аварии на различных улицах москвы.\n",
    "4. Выбрать все ДТП, в которых участвовали животные\n",
    "5. Выбрать все ДТП в которых погиб пассажир "
   ]
  },
  {
   "cell_type": "code",
   "execution_count": null,
   "metadata": {},
   "outputs": [],
   "source": []
  },
  {
   "cell_type": "markdown",
   "metadata": {},
   "source": [
    "## Выгрузка результатов аналитического запроса (Pandas)"
   ]
  },
  {
   "cell_type": "code",
   "execution_count": null,
   "metadata": {},
   "outputs": [],
   "source": []
  }
 ],
 "metadata": {
  "kernelspec": {
   "display_name": "Python 3",
   "language": "python",
   "name": "python3"
  },
  "language_info": {
   "codemirror_mode": {
    "name": "ipython",
    "version": 3
   },
   "file_extension": ".py",
   "mimetype": "text/x-python",
   "name": "python",
   "nbconvert_exporter": "python",
   "pygments_lexer": "ipython3",
   "version": "3.6.5"
  }
 },
 "nbformat": 4,
 "nbformat_minor": 2
}
